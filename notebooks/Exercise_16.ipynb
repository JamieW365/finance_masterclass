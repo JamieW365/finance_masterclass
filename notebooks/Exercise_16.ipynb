{
 "cells": [
  {
   "cell_type": "markdown",
   "metadata": {},
   "source": [
    "# Coding Exercises (Part 16)"
   ]
  },
  {
   "cell_type": "markdown",
   "metadata": {},
   "source": [
    "## Financial Portfolios"
   ]
  },
  {
   "cell_type": "markdown",
   "metadata": {},
   "source": [
    "### Exercise 16 : Modern Portfolio Theory and Asset Pricing "
   ]
  },
  {
   "cell_type": "markdown",
   "metadata": {},
   "source": [
    "Now, you will have the opportunity to analyze your own dataset. <br>\n",
    "__Follow the instructions__ and insert your code! You are either requested to \n",
    "- Complete the Code and __Fill in the gaps__. Gaps are marked with \"__---__\" and are __placeholders__ for your code fragment \n",
    "- Write Code completely __on your own__ "
   ]
  },
  {
   "cell_type": "markdown",
   "metadata": {},
   "source": [
    "In some exercises, you will find questions that can only be answered, if your code is correct and returns the right output! The correct answer is provided below your coding cell. There you can check whether your code is correct."
   ]
  },
  {
   "cell_type": "markdown",
   "metadata": {},
   "source": [
    "If you need a hint, check the __Hints Section__ at the end of this Notebook. Exercises and Hints are numerated accordingly."
   ]
  },
  {
   "cell_type": "markdown",
   "metadata": {},
   "source": [
    "If you need some further help or if you want to check your code, you can also check the __solutions notebook__."
   ]
  },
  {
   "cell_type": "markdown",
   "metadata": {},
   "source": [
    "### Have Fun!"
   ]
  },
  {
   "cell_type": "markdown",
   "metadata": {},
   "source": [
    "--------------------------------------------------------------------------------------------------------------"
   ]
  },
  {
   "cell_type": "markdown",
   "metadata": {},
   "source": [
    "## Option 1: Self_guided"
   ]
  },
  {
   "cell_type": "markdown",
   "metadata": {},
   "source": [
    "Import the datasets __us_stocks.csv__ and __SP500_TR.csv__ and select the 5-Year period from __31-12-2013__ (incl.) until __31-12-2018__ (incl.). Save the DataFrames in the variables __stocks__ and __SP500__ and finally __add the S&P 500__ to the stocks DataFrame as the best approximation for the Market Portfolio (column __\"MP\"__)!"
   ]
  },
  {
   "cell_type": "markdown",
   "metadata": {},
   "source": [
    "__Calculate__ (simple) __daily returns__ for the six stocks and the Market Portfolio and calculate the __annualized Risk and Return__! (Use the user-defined function ann_risk_return)"
   ]
  },
  {
   "cell_type": "code",
   "execution_count": 1,
   "metadata": {},
   "outputs": [],
   "source": [
    "def ann_risk_return(returns_df):\n",
    "    summary = returns_df.agg([\"mean\", \"std\"]).T\n",
    "    summary.columns = [\"Return\", \"Risk\"]\n",
    "    summary.Return = summary.Return*252\n",
    "    summary.Risk = summary.Risk * np.sqrt(252)\n",
    "    return summary"
   ]
  },
  {
   "cell_type": "markdown",
   "metadata": {},
   "source": [
    "Assume that the approx. __risk-free Return__ is __1.7%__ p.a."
   ]
  },
  {
   "cell_type": "markdown",
   "metadata": {},
   "source": [
    "__Calculate__ the following __Metrics__ for the six stocks and the Market Portfolio: "
   ]
  },
  {
   "cell_type": "markdown",
   "metadata": {},
   "source": [
    "- Sharpe Ratio\n",
    "- Total Risk in Variance Units\n",
    "- the annualized Covariance Matrix\n",
    "- Systematic Risk\n",
    "- Unsystematic Risk\n",
    "- beta\n",
    "- Required Return as per CAPM Model (capm_ret)\n",
    "- alpha"
   ]
  },
  {
   "cell_type": "markdown",
   "metadata": {},
   "source": [
    "Visualize __Systematic Risk__ and __Unsystematic Risk__ for all stocks and the MP in a __Barchart__. Which __Company__ most likely showed the __highest portion__ of __Company-specific Risk__ that can be diversified away in the Market Portfolio?"
   ]
  },
  {
   "cell_type": "markdown",
   "metadata": {},
   "source": [
    "__Visualize__ the __Security Market Line__. __Determine__ the stocks that __overperformed__ and __underperformed__ the __Market__ in the Systematic Risk/Return Framework (CAPM)."
   ]
  },
  {
   "cell_type": "markdown",
   "metadata": {},
   "source": [
    "------------------------"
   ]
  },
  {
   "cell_type": "markdown",
   "metadata": {},
   "source": [
    "## Option 2: Guided and Instructed"
   ]
  },
  {
   "cell_type": "markdown",
   "metadata": {},
   "source": [
    "# STOP HERE, IF YOU WANT TO DO THE EXERCISE ON YOUR OWN!"
   ]
  },
  {
   "cell_type": "markdown",
   "metadata": {},
   "source": [
    "+++++++++++++++++++++++++++++++++++++++++++++++++++++++++++++++++++++++++++++++++++++++++++++++++++++++++++++++++++++++++"
   ]
  },
  {
   "cell_type": "code",
   "execution_count": 2,
   "metadata": {},
   "outputs": [],
   "source": [
    "#run the cell!\n",
    "import pandas as pd\n",
    "import numpy as np\n",
    "import matplotlib.pyplot as plt\n",
    "plt.style.use(\"seaborn-v0_8\")\n",
    "\n",
    "pd.options.display.float_format = '{:.2f}'.format"
   ]
  },
  {
   "cell_type": "markdown",
   "metadata": {},
   "source": [
    "164. __Import__ the files __us_stocks.csv__ and __SP500_TR.csv__ and select the __appropriate Price Data__ to calculate __Total Returns__! (Close vs. Adj Close) <br> __Assign__ the variables __stocks__ and __SP500__! __Fill in the gaps!__"
   ]
  },
  {
   "cell_type": "code",
   "execution_count": 9,
   "metadata": {},
   "outputs": [],
   "source": [
    "stocks = pd.read_csv(\"data/us_stocks.csv\", header = [0,1], index_col = [0], parse_dates = [0])[\"Adj Close\"]\n",
    "SP500 =  pd.read_csv(\"data/SP500_TR.csv\", index_col = \"Date\", parse_dates = [\"Date\"])[\"Adj Close\"].to_frame()"
   ]
  },
  {
   "cell_type": "markdown",
   "metadata": {},
   "source": [
    "165. __Select__ the 5-Year Period from __2014__ (incl.) until __2018__ (incl.) and __overwrite stocks__ and __SP500__! (Hint: Start with \"2013-12-31\")"
   ]
  },
  {
   "cell_type": "code",
   "execution_count": 10,
   "metadata": {},
   "outputs": [],
   "source": [
    "stocks = stocks.loc['2014':'2018']\n",
    "SP500 = SP500.loc['2014':'2018']"
   ]
  },
  {
   "cell_type": "code",
   "execution_count": 11,
   "metadata": {},
   "outputs": [
    {
     "data": {
      "text/html": [
       "<div>\n",
       "<style scoped>\n",
       "    .dataframe tbody tr th:only-of-type {\n",
       "        vertical-align: middle;\n",
       "    }\n",
       "\n",
       "    .dataframe tbody tr th {\n",
       "        vertical-align: top;\n",
       "    }\n",
       "\n",
       "    .dataframe thead th {\n",
       "        text-align: right;\n",
       "    }\n",
       "</style>\n",
       "<table border=\"1\" class=\"dataframe\">\n",
       "  <thead>\n",
       "    <tr style=\"text-align: right;\">\n",
       "      <th></th>\n",
       "      <th>AXP</th>\n",
       "      <th>FB</th>\n",
       "      <th>INTC</th>\n",
       "      <th>MCD</th>\n",
       "      <th>PG</th>\n",
       "      <th>WMT</th>\n",
       "    </tr>\n",
       "    <tr>\n",
       "      <th>Date</th>\n",
       "      <th></th>\n",
       "      <th></th>\n",
       "      <th></th>\n",
       "      <th></th>\n",
       "      <th></th>\n",
       "      <th></th>\n",
       "    </tr>\n",
       "  </thead>\n",
       "  <tbody>\n",
       "    <tr>\n",
       "      <th>2014-01-02</th>\n",
       "      <td>82.71</td>\n",
       "      <td>54.71</td>\n",
       "      <td>22.15</td>\n",
       "      <td>82.38</td>\n",
       "      <td>68.02</td>\n",
       "      <td>69.31</td>\n",
       "    </tr>\n",
       "    <tr>\n",
       "      <th>2014-01-03</th>\n",
       "      <td>82.98</td>\n",
       "      <td>54.56</td>\n",
       "      <td>22.14</td>\n",
       "      <td>82.49</td>\n",
       "      <td>67.95</td>\n",
       "      <td>69.08</td>\n",
       "    </tr>\n",
       "    <tr>\n",
       "      <th>2014-01-06</th>\n",
       "      <td>82.94</td>\n",
       "      <td>57.20</td>\n",
       "      <td>21.86</td>\n",
       "      <td>81.90</td>\n",
       "      <td>68.11</td>\n",
       "      <td>68.69</td>\n",
       "    </tr>\n",
       "    <tr>\n",
       "      <th>2014-01-07</th>\n",
       "      <td>82.62</td>\n",
       "      <td>57.92</td>\n",
       "      <td>21.97</td>\n",
       "      <td>82.36</td>\n",
       "      <td>68.77</td>\n",
       "      <td>68.90</td>\n",
       "    </tr>\n",
       "    <tr>\n",
       "      <th>2014-01-08</th>\n",
       "      <td>82.88</td>\n",
       "      <td>58.23</td>\n",
       "      <td>21.84</td>\n",
       "      <td>81.53</td>\n",
       "      <td>67.77</td>\n",
       "      <td>68.36</td>\n",
       "    </tr>\n",
       "  </tbody>\n",
       "</table>\n",
       "</div>"
      ],
      "text/plain": [
       "             AXP    FB  INTC   MCD    PG   WMT\n",
       "Date                                          \n",
       "2014-01-02 82.71 54.71 22.15 82.38 68.02 69.31\n",
       "2014-01-03 82.98 54.56 22.14 82.49 67.95 69.08\n",
       "2014-01-06 82.94 57.20 21.86 81.90 68.11 68.69\n",
       "2014-01-07 82.62 57.92 21.97 82.36 68.77 68.90\n",
       "2014-01-08 82.88 58.23 21.84 81.53 67.77 68.36"
      ]
     },
     "execution_count": 11,
     "metadata": {},
     "output_type": "execute_result"
    }
   ],
   "source": [
    "#run the cell!\n",
    "stocks.head()"
   ]
  },
  {
   "cell_type": "code",
   "execution_count": 12,
   "metadata": {},
   "outputs": [
    {
     "data": {
      "text/html": [
       "<div>\n",
       "<style scoped>\n",
       "    .dataframe tbody tr th:only-of-type {\n",
       "        vertical-align: middle;\n",
       "    }\n",
       "\n",
       "    .dataframe tbody tr th {\n",
       "        vertical-align: top;\n",
       "    }\n",
       "\n",
       "    .dataframe thead th {\n",
       "        text-align: right;\n",
       "    }\n",
       "</style>\n",
       "<table border=\"1\" class=\"dataframe\">\n",
       "  <thead>\n",
       "    <tr style=\"text-align: right;\">\n",
       "      <th></th>\n",
       "      <th>AXP</th>\n",
       "      <th>FB</th>\n",
       "      <th>INTC</th>\n",
       "      <th>MCD</th>\n",
       "      <th>PG</th>\n",
       "      <th>WMT</th>\n",
       "    </tr>\n",
       "    <tr>\n",
       "      <th>Date</th>\n",
       "      <th></th>\n",
       "      <th></th>\n",
       "      <th></th>\n",
       "      <th></th>\n",
       "      <th></th>\n",
       "      <th></th>\n",
       "    </tr>\n",
       "  </thead>\n",
       "  <tbody>\n",
       "    <tr>\n",
       "      <th>2018-12-21</th>\n",
       "      <td>90.96</td>\n",
       "      <td>124.95</td>\n",
       "      <td>44.56</td>\n",
       "      <td>174.15</td>\n",
       "      <td>90.26</td>\n",
       "      <td>87.13</td>\n",
       "    </tr>\n",
       "    <tr>\n",
       "      <th>2018-12-24</th>\n",
       "      <td>89.14</td>\n",
       "      <td>124.06</td>\n",
       "      <td>43.32</td>\n",
       "      <td>170.28</td>\n",
       "      <td>86.67</td>\n",
       "      <td>85.82</td>\n",
       "    </tr>\n",
       "    <tr>\n",
       "      <th>2018-12-26</th>\n",
       "      <td>93.46</td>\n",
       "      <td>134.18</td>\n",
       "      <td>45.90</td>\n",
       "      <td>174.03</td>\n",
       "      <td>89.38</td>\n",
       "      <td>90.41</td>\n",
       "    </tr>\n",
       "    <tr>\n",
       "      <th>2018-12-27</th>\n",
       "      <td>94.29</td>\n",
       "      <td>134.52</td>\n",
       "      <td>46.07</td>\n",
       "      <td>175.71</td>\n",
       "      <td>91.30</td>\n",
       "      <td>91.59</td>\n",
       "    </tr>\n",
       "    <tr>\n",
       "      <th>2018-12-28</th>\n",
       "      <td>94.04</td>\n",
       "      <td>133.20</td>\n",
       "      <td>46.46</td>\n",
       "      <td>175.56</td>\n",
       "      <td>90.46</td>\n",
       "      <td>92.13</td>\n",
       "    </tr>\n",
       "  </tbody>\n",
       "</table>\n",
       "</div>"
      ],
      "text/plain": [
       "             AXP     FB  INTC    MCD    PG   WMT\n",
       "Date                                            \n",
       "2018-12-21 90.96 124.95 44.56 174.15 90.26 87.13\n",
       "2018-12-24 89.14 124.06 43.32 170.28 86.67 85.82\n",
       "2018-12-26 93.46 134.18 45.90 174.03 89.38 90.41\n",
       "2018-12-27 94.29 134.52 46.07 175.71 91.30 91.59\n",
       "2018-12-28 94.04 133.20 46.46 175.56 90.46 92.13"
      ]
     },
     "execution_count": 12,
     "metadata": {},
     "output_type": "execute_result"
    }
   ],
   "source": [
    "#run the cell!\n",
    "stocks.tail()"
   ]
  },
  {
   "cell_type": "code",
   "execution_count": 13,
   "metadata": {},
   "outputs": [
    {
     "data": {
      "text/html": [
       "<div>\n",
       "<style scoped>\n",
       "    .dataframe tbody tr th:only-of-type {\n",
       "        vertical-align: middle;\n",
       "    }\n",
       "\n",
       "    .dataframe tbody tr th {\n",
       "        vertical-align: top;\n",
       "    }\n",
       "\n",
       "    .dataframe thead th {\n",
       "        text-align: right;\n",
       "    }\n",
       "</style>\n",
       "<table border=\"1\" class=\"dataframe\">\n",
       "  <thead>\n",
       "    <tr style=\"text-align: right;\">\n",
       "      <th></th>\n",
       "      <th>Adj Close</th>\n",
       "    </tr>\n",
       "    <tr>\n",
       "      <th>Date</th>\n",
       "      <th></th>\n",
       "    </tr>\n",
       "  </thead>\n",
       "  <tbody>\n",
       "    <tr>\n",
       "      <th>2014-01-02</th>\n",
       "      <td>3286.69</td>\n",
       "    </tr>\n",
       "    <tr>\n",
       "      <th>2014-01-03</th>\n",
       "      <td>3285.68</td>\n",
       "    </tr>\n",
       "    <tr>\n",
       "      <th>2014-01-06</th>\n",
       "      <td>3277.48</td>\n",
       "    </tr>\n",
       "    <tr>\n",
       "      <th>2014-01-07</th>\n",
       "      <td>3297.45</td>\n",
       "    </tr>\n",
       "    <tr>\n",
       "      <th>2014-01-08</th>\n",
       "      <td>3297.74</td>\n",
       "    </tr>\n",
       "  </tbody>\n",
       "</table>\n",
       "</div>"
      ],
      "text/plain": [
       "            Adj Close\n",
       "Date                 \n",
       "2014-01-02    3286.69\n",
       "2014-01-03    3285.68\n",
       "2014-01-06    3277.48\n",
       "2014-01-07    3297.45\n",
       "2014-01-08    3297.74"
      ]
     },
     "execution_count": 13,
     "metadata": {},
     "output_type": "execute_result"
    }
   ],
   "source": [
    "#run the cell!\n",
    "SP500.head()"
   ]
  },
  {
   "cell_type": "code",
   "execution_count": 14,
   "metadata": {},
   "outputs": [
    {
     "data": {
      "text/html": [
       "<div>\n",
       "<style scoped>\n",
       "    .dataframe tbody tr th:only-of-type {\n",
       "        vertical-align: middle;\n",
       "    }\n",
       "\n",
       "    .dataframe tbody tr th {\n",
       "        vertical-align: top;\n",
       "    }\n",
       "\n",
       "    .dataframe thead th {\n",
       "        text-align: right;\n",
       "    }\n",
       "</style>\n",
       "<table border=\"1\" class=\"dataframe\">\n",
       "  <thead>\n",
       "    <tr style=\"text-align: right;\">\n",
       "      <th></th>\n",
       "      <th>Adj Close</th>\n",
       "    </tr>\n",
       "    <tr>\n",
       "      <th>Date</th>\n",
       "      <th></th>\n",
       "    </tr>\n",
       "  </thead>\n",
       "  <tbody>\n",
       "    <tr>\n",
       "      <th>2018-12-21</th>\n",
       "      <td>4802.51</td>\n",
       "    </tr>\n",
       "    <tr>\n",
       "      <th>2018-12-24</th>\n",
       "      <td>4672.66</td>\n",
       "    </tr>\n",
       "    <tr>\n",
       "      <th>2018-12-26</th>\n",
       "      <td>4904.49</td>\n",
       "    </tr>\n",
       "    <tr>\n",
       "      <th>2018-12-27</th>\n",
       "      <td>4946.94</td>\n",
       "    </tr>\n",
       "    <tr>\n",
       "      <th>2018-12-28</th>\n",
       "      <td>4941.61</td>\n",
       "    </tr>\n",
       "  </tbody>\n",
       "</table>\n",
       "</div>"
      ],
      "text/plain": [
       "            Adj Close\n",
       "Date                 \n",
       "2018-12-21    4802.51\n",
       "2018-12-24    4672.66\n",
       "2018-12-26    4904.49\n",
       "2018-12-27    4946.94\n",
       "2018-12-28    4941.61"
      ]
     },
     "execution_count": 14,
     "metadata": {},
     "output_type": "execute_result"
    }
   ],
   "source": [
    "#run the cell!\n",
    "SP500.tail()"
   ]
  },
  {
   "cell_type": "markdown",
   "metadata": {},
   "source": [
    "166. __Add__ the __S&P 500__ to the __stocks__ DataFrame and create a __new column \"MP\"__ (Market Portfolio)! __Fill in the gaps__!"
   ]
  },
  {
   "cell_type": "code",
   "execution_count": 15,
   "metadata": {},
   "outputs": [],
   "source": [
    "stocks['MP'] = SP500[\"Adj Close\"]"
   ]
  },
  {
   "cell_type": "code",
   "execution_count": 16,
   "metadata": {},
   "outputs": [
    {
     "data": {
      "text/html": [
       "<div>\n",
       "<style scoped>\n",
       "    .dataframe tbody tr th:only-of-type {\n",
       "        vertical-align: middle;\n",
       "    }\n",
       "\n",
       "    .dataframe tbody tr th {\n",
       "        vertical-align: top;\n",
       "    }\n",
       "\n",
       "    .dataframe thead th {\n",
       "        text-align: right;\n",
       "    }\n",
       "</style>\n",
       "<table border=\"1\" class=\"dataframe\">\n",
       "  <thead>\n",
       "    <tr style=\"text-align: right;\">\n",
       "      <th></th>\n",
       "      <th>AXP</th>\n",
       "      <th>FB</th>\n",
       "      <th>INTC</th>\n",
       "      <th>MCD</th>\n",
       "      <th>PG</th>\n",
       "      <th>WMT</th>\n",
       "      <th>MP</th>\n",
       "    </tr>\n",
       "    <tr>\n",
       "      <th>Date</th>\n",
       "      <th></th>\n",
       "      <th></th>\n",
       "      <th></th>\n",
       "      <th></th>\n",
       "      <th></th>\n",
       "      <th></th>\n",
       "      <th></th>\n",
       "    </tr>\n",
       "  </thead>\n",
       "  <tbody>\n",
       "    <tr>\n",
       "      <th>2014-01-02</th>\n",
       "      <td>82.71</td>\n",
       "      <td>54.71</td>\n",
       "      <td>22.15</td>\n",
       "      <td>82.38</td>\n",
       "      <td>68.02</td>\n",
       "      <td>69.31</td>\n",
       "      <td>3286.69</td>\n",
       "    </tr>\n",
       "    <tr>\n",
       "      <th>2014-01-03</th>\n",
       "      <td>82.98</td>\n",
       "      <td>54.56</td>\n",
       "      <td>22.14</td>\n",
       "      <td>82.49</td>\n",
       "      <td>67.95</td>\n",
       "      <td>69.08</td>\n",
       "      <td>3285.68</td>\n",
       "    </tr>\n",
       "    <tr>\n",
       "      <th>2014-01-06</th>\n",
       "      <td>82.94</td>\n",
       "      <td>57.20</td>\n",
       "      <td>21.86</td>\n",
       "      <td>81.90</td>\n",
       "      <td>68.11</td>\n",
       "      <td>68.69</td>\n",
       "      <td>3277.48</td>\n",
       "    </tr>\n",
       "    <tr>\n",
       "      <th>2014-01-07</th>\n",
       "      <td>82.62</td>\n",
       "      <td>57.92</td>\n",
       "      <td>21.97</td>\n",
       "      <td>82.36</td>\n",
       "      <td>68.77</td>\n",
       "      <td>68.90</td>\n",
       "      <td>3297.45</td>\n",
       "    </tr>\n",
       "    <tr>\n",
       "      <th>2014-01-08</th>\n",
       "      <td>82.88</td>\n",
       "      <td>58.23</td>\n",
       "      <td>21.84</td>\n",
       "      <td>81.53</td>\n",
       "      <td>67.77</td>\n",
       "      <td>68.36</td>\n",
       "      <td>3297.74</td>\n",
       "    </tr>\n",
       "  </tbody>\n",
       "</table>\n",
       "</div>"
      ],
      "text/plain": [
       "             AXP    FB  INTC   MCD    PG   WMT      MP\n",
       "Date                                                  \n",
       "2014-01-02 82.71 54.71 22.15 82.38 68.02 69.31 3286.69\n",
       "2014-01-03 82.98 54.56 22.14 82.49 67.95 69.08 3285.68\n",
       "2014-01-06 82.94 57.20 21.86 81.90 68.11 68.69 3277.48\n",
       "2014-01-07 82.62 57.92 21.97 82.36 68.77 68.90 3297.45\n",
       "2014-01-08 82.88 58.23 21.84 81.53 67.77 68.36 3297.74"
      ]
     },
     "execution_count": 16,
     "metadata": {},
     "output_type": "execute_result"
    }
   ],
   "source": [
    "#run the cell!\n",
    "stocks.head()"
   ]
  },
  {
   "cell_type": "markdown",
   "metadata": {},
   "source": [
    "167. __Create__ and __save__ the (daily, simple) __returns__ DataFrame in the variable __ret__!"
   ]
  },
  {
   "cell_type": "code",
   "execution_count": 17,
   "metadata": {},
   "outputs": [],
   "source": [
    "ret = stocks.pct_change().dropna()"
   ]
  },
  {
   "cell_type": "markdown",
   "metadata": {},
   "source": [
    "168. Create the user-defined function __ann_risk_return__ and calculate __annualized risk and return__ for the six constituents and the Market Portfolio! __Save__ the resulting DataFrame in the variable __summary__"
   ]
  },
  {
   "cell_type": "code",
   "execution_count": 18,
   "metadata": {},
   "outputs": [],
   "source": [
    "#run the cell!\n",
    "def ann_risk_return(returns_df):\n",
    "    summary = returns_df.agg([\"mean\", \"std\"]).T\n",
    "    summary.columns = [\"Return\", \"Risk\"]\n",
    "    summary.Return = summary.Return*252\n",
    "    summary.Risk = summary.Risk * np.sqrt(252)\n",
    "    return summary"
   ]
  },
  {
   "cell_type": "code",
   "execution_count": 20,
   "metadata": {},
   "outputs": [],
   "source": [
    "summary = ann_risk_return(ret)"
   ]
  },
  {
   "cell_type": "code",
   "execution_count": 21,
   "metadata": {},
   "outputs": [
    {
     "data": {
      "text/html": [
       "<div>\n",
       "<style scoped>\n",
       "    .dataframe tbody tr th:only-of-type {\n",
       "        vertical-align: middle;\n",
       "    }\n",
       "\n",
       "    .dataframe tbody tr th {\n",
       "        vertical-align: top;\n",
       "    }\n",
       "\n",
       "    .dataframe thead th {\n",
       "        text-align: right;\n",
       "    }\n",
       "</style>\n",
       "<table border=\"1\" class=\"dataframe\">\n",
       "  <thead>\n",
       "    <tr style=\"text-align: right;\">\n",
       "      <th></th>\n",
       "      <th>Return</th>\n",
       "      <th>Risk</th>\n",
       "    </tr>\n",
       "  </thead>\n",
       "  <tbody>\n",
       "    <tr>\n",
       "      <th>AXP</th>\n",
       "      <td>0.05</td>\n",
       "      <td>0.21</td>\n",
       "    </tr>\n",
       "    <tr>\n",
       "      <th>FB</th>\n",
       "      <td>0.22</td>\n",
       "      <td>0.30</td>\n",
       "    </tr>\n",
       "    <tr>\n",
       "      <th>INTC</th>\n",
       "      <td>0.18</td>\n",
       "      <td>0.25</td>\n",
       "    </tr>\n",
       "    <tr>\n",
       "      <th>MCD</th>\n",
       "      <td>0.17</td>\n",
       "      <td>0.16</td>\n",
       "    </tr>\n",
       "    <tr>\n",
       "      <th>PG</th>\n",
       "      <td>0.07</td>\n",
       "      <td>0.15</td>\n",
       "    </tr>\n",
       "    <tr>\n",
       "      <th>WMT</th>\n",
       "      <td>0.08</td>\n",
       "      <td>0.19</td>\n",
       "    </tr>\n",
       "    <tr>\n",
       "      <th>MP</th>\n",
       "      <td>0.09</td>\n",
       "      <td>0.13</td>\n",
       "    </tr>\n",
       "  </tbody>\n",
       "</table>\n",
       "</div>"
      ],
      "text/plain": [
       "      Return  Risk\n",
       "AXP     0.05  0.21\n",
       "FB      0.22  0.30\n",
       "INTC    0.18  0.25\n",
       "MCD     0.17  0.16\n",
       "PG      0.07  0.15\n",
       "WMT     0.08  0.19\n",
       "MP      0.09  0.13"
      ]
     },
     "execution_count": 21,
     "metadata": {},
     "output_type": "execute_result"
    }
   ],
   "source": [
    "#run the cell!\n",
    "summary"
   ]
  },
  {
   "cell_type": "code",
   "execution_count": 22,
   "metadata": {},
   "outputs": [
    {
     "data": {
      "image/png": "[encoded data removed]",
      "text/plain": [
       "<Figure size 1300x900 with 1 Axes>"
      ]
     },
     "metadata": {},
     "output_type": "display_data"
    }
   ],
   "source": [
    "#run the cell!\n",
    "summary.plot(kind = \"scatter\", x = \"Risk\", y = \"Return\", figsize = (13,9), s = 50, fontsize = 15)\n",
    "for i in summary.index:\n",
    "    plt.annotate(i, xy=(summary.loc[i, \"Risk\"]+0.002, summary.loc[i, \"Return\"]+0.002), size = 15)\n",
    "plt.xlabel(\"ann. Risk(std)\", fontsize = 15)\n",
    "plt.ylabel(\"ann. Return\", fontsize = 15)\n",
    "plt.title(\"Risk/Return\", fontsize = 20)\n",
    "plt.show()"
   ]
  },
  {
   "cell_type": "markdown",
   "metadata": {},
   "source": [
    "The __risk-free return__ of the risk-free asset is __1.7%__ p.a."
   ]
  },
  {
   "cell_type": "code",
   "execution_count": 23,
   "metadata": {},
   "outputs": [],
   "source": [
    "# run the cell!\n",
    "risk_free_return = 0.017\n",
    "risk_free_risk = 0"
   ]
  },
  {
   "cell_type": "code",
   "execution_count": 24,
   "metadata": {},
   "outputs": [
    {
     "data": {
      "text/plain": [
       "[0.017, 0]"
      ]
     },
     "execution_count": 24,
     "metadata": {},
     "output_type": "execute_result"
    }
   ],
   "source": [
    "# run the cell!\n",
    "rf = [risk_free_return, risk_free_risk]\n",
    "rf"
   ]
  },
  {
   "cell_type": "markdown",
   "metadata": {},
   "source": [
    "169. __Calculate__ the __Sharpe Ratio__ for all seven assets in summary and __add__ the __column \"Sharpe\"__ to summary!"
   ]
  },
  {
   "cell_type": "code",
   "execution_count": 27,
   "metadata": {},
   "outputs": [],
   "source": [
    "summary[\"Sharpe\"] = summary[\"Return\"].sub(rf[0]).div(summary[\"Risk\"])"
   ]
  },
  {
   "cell_type": "code",
   "execution_count": 28,
   "metadata": {},
   "outputs": [
    {
     "data": {
      "text/html": [
       "<div>\n",
       "<style scoped>\n",
       "    .dataframe tbody tr th:only-of-type {\n",
       "        vertical-align: middle;\n",
       "    }\n",
       "\n",
       "    .dataframe tbody tr th {\n",
       "        vertical-align: top;\n",
       "    }\n",
       "\n",
       "    .dataframe thead th {\n",
       "        text-align: right;\n",
       "    }\n",
       "</style>\n",
       "<table border=\"1\" class=\"dataframe\">\n",
       "  <thead>\n",
       "    <tr style=\"text-align: right;\">\n",
       "      <th></th>\n",
       "      <th>Return</th>\n",
       "      <th>Risk</th>\n",
       "      <th>Sharpe</th>\n",
       "    </tr>\n",
       "  </thead>\n",
       "  <tbody>\n",
       "    <tr>\n",
       "      <th>AXP</th>\n",
       "      <td>0.05</td>\n",
       "      <td>0.21</td>\n",
       "      <td>0.15</td>\n",
       "    </tr>\n",
       "    <tr>\n",
       "      <th>FB</th>\n",
       "      <td>0.22</td>\n",
       "      <td>0.30</td>\n",
       "      <td>0.69</td>\n",
       "    </tr>\n",
       "    <tr>\n",
       "      <th>INTC</th>\n",
       "      <td>0.18</td>\n",
       "      <td>0.25</td>\n",
       "      <td>0.66</td>\n",
       "    </tr>\n",
       "    <tr>\n",
       "      <th>MCD</th>\n",
       "      <td>0.17</td>\n",
       "      <td>0.16</td>\n",
       "      <td>0.90</td>\n",
       "    </tr>\n",
       "    <tr>\n",
       "      <th>PG</th>\n",
       "      <td>0.07</td>\n",
       "      <td>0.15</td>\n",
       "      <td>0.35</td>\n",
       "    </tr>\n",
       "    <tr>\n",
       "      <th>WMT</th>\n",
       "      <td>0.08</td>\n",
       "      <td>0.19</td>\n",
       "      <td>0.30</td>\n",
       "    </tr>\n",
       "    <tr>\n",
       "      <th>MP</th>\n",
       "      <td>0.09</td>\n",
       "      <td>0.13</td>\n",
       "      <td>0.56</td>\n",
       "    </tr>\n",
       "  </tbody>\n",
       "</table>\n",
       "</div>"
      ],
      "text/plain": [
       "      Return  Risk  Sharpe\n",
       "AXP     0.05  0.21    0.15\n",
       "FB      0.22  0.30    0.69\n",
       "INTC    0.18  0.25    0.66\n",
       "MCD     0.17  0.16    0.90\n",
       "PG      0.07  0.15    0.35\n",
       "WMT     0.08  0.19    0.30\n",
       "MP      0.09  0.13    0.56"
      ]
     },
     "execution_count": 28,
     "metadata": {},
     "output_type": "execute_result"
    }
   ],
   "source": [
    "# run the cell!\n",
    "summary"
   ]
  },
  {
   "cell_type": "markdown",
   "metadata": {},
   "source": [
    "170. __Convert__ the __risk__ to variance units and __add__ the new __column \"TotalRisk_var\"__. __Fill in the gaps__!"
   ]
  },
  {
   "cell_type": "code",
   "execution_count": 29,
   "metadata": {},
   "outputs": [],
   "source": [
    "summary[\"TotalRisk_var\"] = np.power(summary.Risk, 2)"
   ]
  },
  {
   "cell_type": "code",
   "execution_count": 30,
   "metadata": {},
   "outputs": [
    {
     "data": {
      "text/html": [
       "<div>\n",
       "<style scoped>\n",
       "    .dataframe tbody tr th:only-of-type {\n",
       "        vertical-align: middle;\n",
       "    }\n",
       "\n",
       "    .dataframe tbody tr th {\n",
       "        vertical-align: top;\n",
       "    }\n",
       "\n",
       "    .dataframe thead th {\n",
       "        text-align: right;\n",
       "    }\n",
       "</style>\n",
       "<table border=\"1\" class=\"dataframe\">\n",
       "  <thead>\n",
       "    <tr style=\"text-align: right;\">\n",
       "      <th></th>\n",
       "      <th>Return</th>\n",
       "      <th>Risk</th>\n",
       "      <th>Sharpe</th>\n",
       "      <th>TotalRisk_var</th>\n",
       "    </tr>\n",
       "  </thead>\n",
       "  <tbody>\n",
       "    <tr>\n",
       "      <th>AXP</th>\n",
       "      <td>0.05</td>\n",
       "      <td>0.21</td>\n",
       "      <td>0.15</td>\n",
       "      <td>0.04</td>\n",
       "    </tr>\n",
       "    <tr>\n",
       "      <th>FB</th>\n",
       "      <td>0.22</td>\n",
       "      <td>0.30</td>\n",
       "      <td>0.69</td>\n",
       "      <td>0.09</td>\n",
       "    </tr>\n",
       "    <tr>\n",
       "      <th>INTC</th>\n",
       "      <td>0.18</td>\n",
       "      <td>0.25</td>\n",
       "      <td>0.66</td>\n",
       "      <td>0.06</td>\n",
       "    </tr>\n",
       "    <tr>\n",
       "      <th>MCD</th>\n",
       "      <td>0.17</td>\n",
       "      <td>0.16</td>\n",
       "      <td>0.90</td>\n",
       "      <td>0.03</td>\n",
       "    </tr>\n",
       "    <tr>\n",
       "      <th>PG</th>\n",
       "      <td>0.07</td>\n",
       "      <td>0.15</td>\n",
       "      <td>0.35</td>\n",
       "      <td>0.02</td>\n",
       "    </tr>\n",
       "    <tr>\n",
       "      <th>WMT</th>\n",
       "      <td>0.08</td>\n",
       "      <td>0.19</td>\n",
       "      <td>0.30</td>\n",
       "      <td>0.04</td>\n",
       "    </tr>\n",
       "    <tr>\n",
       "      <th>MP</th>\n",
       "      <td>0.09</td>\n",
       "      <td>0.13</td>\n",
       "      <td>0.56</td>\n",
       "      <td>0.02</td>\n",
       "    </tr>\n",
       "  </tbody>\n",
       "</table>\n",
       "</div>"
      ],
      "text/plain": [
       "      Return  Risk  Sharpe  TotalRisk_var\n",
       "AXP     0.05  0.21    0.15           0.04\n",
       "FB      0.22  0.30    0.69           0.09\n",
       "INTC    0.18  0.25    0.66           0.06\n",
       "MCD     0.17  0.16    0.90           0.03\n",
       "PG      0.07  0.15    0.35           0.02\n",
       "WMT     0.08  0.19    0.30           0.04\n",
       "MP      0.09  0.13    0.56           0.02"
      ]
     },
     "execution_count": 30,
     "metadata": {},
     "output_type": "execute_result"
    }
   ],
   "source": [
    "# run the cell!\n",
    "summary"
   ]
  },
  {
   "cell_type": "markdown",
   "metadata": {},
   "source": [
    "171. __Create__ the annualized __Covariance Matrix__ and assign the variable __COV__! __Fill in the gaps__!"
   ]
  },
  {
   "cell_type": "code",
   "execution_count": 31,
   "metadata": {},
   "outputs": [],
   "source": [
    "COV = ret.cov()*252"
   ]
  },
  {
   "cell_type": "code",
   "execution_count": 32,
   "metadata": {},
   "outputs": [
    {
     "data": {
      "text/html": [
       "<div>\n",
       "<style scoped>\n",
       "    .dataframe tbody tr th:only-of-type {\n",
       "        vertical-align: middle;\n",
       "    }\n",
       "\n",
       "    .dataframe tbody tr th {\n",
       "        vertical-align: top;\n",
       "    }\n",
       "\n",
       "    .dataframe thead th {\n",
       "        text-align: right;\n",
       "    }\n",
       "</style>\n",
       "<table border=\"1\" class=\"dataframe\">\n",
       "  <thead>\n",
       "    <tr style=\"text-align: right;\">\n",
       "      <th></th>\n",
       "      <th>AXP</th>\n",
       "      <th>FB</th>\n",
       "      <th>INTC</th>\n",
       "      <th>MCD</th>\n",
       "      <th>PG</th>\n",
       "      <th>WMT</th>\n",
       "      <th>MP</th>\n",
       "    </tr>\n",
       "  </thead>\n",
       "  <tbody>\n",
       "    <tr>\n",
       "      <th>AXP</th>\n",
       "      <td>0.04</td>\n",
       "      <td>0.02</td>\n",
       "      <td>0.02</td>\n",
       "      <td>0.01</td>\n",
       "      <td>0.01</td>\n",
       "      <td>0.01</td>\n",
       "      <td>0.02</td>\n",
       "    </tr>\n",
       "    <tr>\n",
       "      <th>FB</th>\n",
       "      <td>0.02</td>\n",
       "      <td>0.09</td>\n",
       "      <td>0.03</td>\n",
       "      <td>0.01</td>\n",
       "      <td>0.01</td>\n",
       "      <td>0.01</td>\n",
       "      <td>0.02</td>\n",
       "    </tr>\n",
       "    <tr>\n",
       "      <th>INTC</th>\n",
       "      <td>0.02</td>\n",
       "      <td>0.03</td>\n",
       "      <td>0.06</td>\n",
       "      <td>0.01</td>\n",
       "      <td>0.01</td>\n",
       "      <td>0.01</td>\n",
       "      <td>0.02</td>\n",
       "    </tr>\n",
       "    <tr>\n",
       "      <th>MCD</th>\n",
       "      <td>0.01</td>\n",
       "      <td>0.01</td>\n",
       "      <td>0.01</td>\n",
       "      <td>0.03</td>\n",
       "      <td>0.01</td>\n",
       "      <td>0.01</td>\n",
       "      <td>0.01</td>\n",
       "    </tr>\n",
       "    <tr>\n",
       "      <th>PG</th>\n",
       "      <td>0.01</td>\n",
       "      <td>0.01</td>\n",
       "      <td>0.01</td>\n",
       "      <td>0.01</td>\n",
       "      <td>0.02</td>\n",
       "      <td>0.01</td>\n",
       "      <td>0.01</td>\n",
       "    </tr>\n",
       "    <tr>\n",
       "      <th>WMT</th>\n",
       "      <td>0.01</td>\n",
       "      <td>0.01</td>\n",
       "      <td>0.01</td>\n",
       "      <td>0.01</td>\n",
       "      <td>0.01</td>\n",
       "      <td>0.04</td>\n",
       "      <td>0.01</td>\n",
       "    </tr>\n",
       "    <tr>\n",
       "      <th>MP</th>\n",
       "      <td>0.02</td>\n",
       "      <td>0.02</td>\n",
       "      <td>0.02</td>\n",
       "      <td>0.01</td>\n",
       "      <td>0.01</td>\n",
       "      <td>0.01</td>\n",
       "      <td>0.02</td>\n",
       "    </tr>\n",
       "  </tbody>\n",
       "</table>\n",
       "</div>"
      ],
      "text/plain": [
       "      AXP   FB  INTC  MCD   PG  WMT   MP\n",
       "AXP  0.04 0.02  0.02 0.01 0.01 0.01 0.02\n",
       "FB   0.02 0.09  0.03 0.01 0.01 0.01 0.02\n",
       "INTC 0.02 0.03  0.06 0.01 0.01 0.01 0.02\n",
       "MCD  0.01 0.01  0.01 0.03 0.01 0.01 0.01\n",
       "PG   0.01 0.01  0.01 0.01 0.02 0.01 0.01\n",
       "WMT  0.01 0.01  0.01 0.01 0.01 0.04 0.01\n",
       "MP   0.02 0.02  0.02 0.01 0.01 0.01 0.02"
      ]
     },
     "execution_count": 32,
     "metadata": {},
     "output_type": "execute_result"
    }
   ],
   "source": [
    "# run the cell!\n",
    "COV"
   ]
  },
  {
   "cell_type": "markdown",
   "metadata": {},
   "source": [
    "172. __Add__ the column __\"SystRisk_var\"__ to the DataFrame summary, that shows the __Systematic Risk (Market Risk__) in relation to the Market Portfolio (__MP__). <br>\n",
    "__Fill in the gaps__!"
   ]
  },
  {
   "cell_type": "code",
   "execution_count": 33,
   "metadata": {},
   "outputs": [],
   "source": [
    "summary[\"SystRisk_var\"] = COV.iloc[:, -1]"
   ]
  },
  {
   "cell_type": "markdown",
   "metadata": {},
   "source": [
    "173. __Add__ the column __\"UnsystRisk_var\"__ with the __Unsystematic Risk (Company-specific Risk__!)    "
   ]
  },
  {
   "cell_type": "code",
   "execution_count": 35,
   "metadata": {},
   "outputs": [],
   "source": [
    "summary[\"UnsystRisk_var\"] = summary[\"TotalRisk_var\"].sub(summary[\"SystRisk_var\"])"
   ]
  },
  {
   "cell_type": "code",
   "execution_count": 36,
   "metadata": {},
   "outputs": [
    {
     "data": {
      "text/html": [
       "<div>\n",
       "<style scoped>\n",
       "    .dataframe tbody tr th:only-of-type {\n",
       "        vertical-align: middle;\n",
       "    }\n",
       "\n",
       "    .dataframe tbody tr th {\n",
       "        vertical-align: top;\n",
       "    }\n",
       "\n",
       "    .dataframe thead th {\n",
       "        text-align: right;\n",
       "    }\n",
       "</style>\n",
       "<table border=\"1\" class=\"dataframe\">\n",
       "  <thead>\n",
       "    <tr style=\"text-align: right;\">\n",
       "      <th></th>\n",
       "      <th>Return</th>\n",
       "      <th>Risk</th>\n",
       "      <th>Sharpe</th>\n",
       "      <th>TotalRisk_var</th>\n",
       "      <th>SystRisk_var</th>\n",
       "      <th>UnsystRisk_var</th>\n",
       "    </tr>\n",
       "  </thead>\n",
       "  <tbody>\n",
       "    <tr>\n",
       "      <th>AXP</th>\n",
       "      <td>0.05</td>\n",
       "      <td>0.21</td>\n",
       "      <td>0.15</td>\n",
       "      <td>0.04</td>\n",
       "      <td>0.02</td>\n",
       "      <td>0.03</td>\n",
       "    </tr>\n",
       "    <tr>\n",
       "      <th>FB</th>\n",
       "      <td>0.22</td>\n",
       "      <td>0.30</td>\n",
       "      <td>0.69</td>\n",
       "      <td>0.09</td>\n",
       "      <td>0.02</td>\n",
       "      <td>0.07</td>\n",
       "    </tr>\n",
       "    <tr>\n",
       "      <th>INTC</th>\n",
       "      <td>0.18</td>\n",
       "      <td>0.25</td>\n",
       "      <td>0.66</td>\n",
       "      <td>0.06</td>\n",
       "      <td>0.02</td>\n",
       "      <td>0.04</td>\n",
       "    </tr>\n",
       "    <tr>\n",
       "      <th>MCD</th>\n",
       "      <td>0.17</td>\n",
       "      <td>0.16</td>\n",
       "      <td>0.90</td>\n",
       "      <td>0.03</td>\n",
       "      <td>0.01</td>\n",
       "      <td>0.02</td>\n",
       "    </tr>\n",
       "    <tr>\n",
       "      <th>PG</th>\n",
       "      <td>0.07</td>\n",
       "      <td>0.15</td>\n",
       "      <td>0.35</td>\n",
       "      <td>0.02</td>\n",
       "      <td>0.01</td>\n",
       "      <td>0.01</td>\n",
       "    </tr>\n",
       "    <tr>\n",
       "      <th>WMT</th>\n",
       "      <td>0.08</td>\n",
       "      <td>0.19</td>\n",
       "      <td>0.30</td>\n",
       "      <td>0.04</td>\n",
       "      <td>0.01</td>\n",
       "      <td>0.03</td>\n",
       "    </tr>\n",
       "    <tr>\n",
       "      <th>MP</th>\n",
       "      <td>0.09</td>\n",
       "      <td>0.13</td>\n",
       "      <td>0.56</td>\n",
       "      <td>0.02</td>\n",
       "      <td>0.02</td>\n",
       "      <td>0.00</td>\n",
       "    </tr>\n",
       "  </tbody>\n",
       "</table>\n",
       "</div>"
      ],
      "text/plain": [
       "      Return  Risk  Sharpe  TotalRisk_var  SystRisk_var  UnsystRisk_var\n",
       "AXP     0.05  0.21    0.15           0.04          0.02            0.03\n",
       "FB      0.22  0.30    0.69           0.09          0.02            0.07\n",
       "INTC    0.18  0.25    0.66           0.06          0.02            0.04\n",
       "MCD     0.17  0.16    0.90           0.03          0.01            0.02\n",
       "PG      0.07  0.15    0.35           0.02          0.01            0.01\n",
       "WMT     0.08  0.19    0.30           0.04          0.01            0.03\n",
       "MP      0.09  0.13    0.56           0.02          0.02            0.00"
      ]
     },
     "execution_count": 36,
     "metadata": {},
     "output_type": "execute_result"
    }
   ],
   "source": [
    "# run the cell!\n",
    "summary"
   ]
  },
  {
   "cell_type": "markdown",
   "metadata": {},
   "source": [
    "174. Visualize __System. Risk & Unsystem. Risk__ of each Stock and the MP with a __barplot__! __Fill in the gaps__! <br>\n",
    "Which __Company__ most likely showed the __highest portion__ of __Company-specific Risk__ that can be diversified away in the Market Portfolio?"
   ]
  },
  {
   "cell_type": "code",
   "execution_count": 37,
   "metadata": {},
   "outputs": [
    {
     "data": {
      "image/png": "[encoded data removed]",
      "text/plain": [
       "<Figure size 1500x800 with 1 Axes>"
      ]
     },
     "metadata": {},
     "output_type": "display_data"
    }
   ],
   "source": [
    "summary.iloc[:, 4:].plot(kind = \"bar\", stacked = True, figsize= (15, 8), fontsize = 15)\n",
    "plt.legend(fontsize = 15)\n",
    "plt.show()"
   ]
  },
  {
   "cell_type": "markdown",
   "metadata": {},
   "source": [
    "The company-specific risk is extremely high for ... the Facebook stock."
   ]
  },
  {
   "cell_type": "markdown",
   "metadata": {},
   "source": [
    "175. __Normalize__ the __Systematic Risk__ and create a __new column \"beta\"__ with the Beta-Factor! __Fill in the gaps__! <br> Which __Company__ has the highest __Beta-Factor__?"
   ]
  },
  {
   "cell_type": "code",
   "execution_count": 38,
   "metadata": {},
   "outputs": [],
   "source": [
    "summary[\"beta\"] = summary[\"SystRisk_var\"] / summary.loc[\"MP\", \"SystRisk_var\"]"
   ]
  },
  {
   "cell_type": "code",
   "execution_count": 39,
   "metadata": {
    "scrolled": true
   },
   "outputs": [
    {
     "data": {
      "text/html": [
       "<div>\n",
       "<style scoped>\n",
       "    .dataframe tbody tr th:only-of-type {\n",
       "        vertical-align: middle;\n",
       "    }\n",
       "\n",
       "    .dataframe tbody tr th {\n",
       "        vertical-align: top;\n",
       "    }\n",
       "\n",
       "    .dataframe thead th {\n",
       "        text-align: right;\n",
       "    }\n",
       "</style>\n",
       "<table border=\"1\" class=\"dataframe\">\n",
       "  <thead>\n",
       "    <tr style=\"text-align: right;\">\n",
       "      <th></th>\n",
       "      <th>Return</th>\n",
       "      <th>Risk</th>\n",
       "      <th>Sharpe</th>\n",
       "      <th>TotalRisk_var</th>\n",
       "      <th>SystRisk_var</th>\n",
       "      <th>UnsystRisk_var</th>\n",
       "      <th>beta</th>\n",
       "    </tr>\n",
       "  </thead>\n",
       "  <tbody>\n",
       "    <tr>\n",
       "      <th>AXP</th>\n",
       "      <td>0.05</td>\n",
       "      <td>0.21</td>\n",
       "      <td>0.15</td>\n",
       "      <td>0.04</td>\n",
       "      <td>0.02</td>\n",
       "      <td>0.03</td>\n",
       "      <td>0.99</td>\n",
       "    </tr>\n",
       "    <tr>\n",
       "      <th>FB</th>\n",
       "      <td>0.22</td>\n",
       "      <td>0.30</td>\n",
       "      <td>0.69</td>\n",
       "      <td>0.09</td>\n",
       "      <td>0.02</td>\n",
       "      <td>0.07</td>\n",
       "      <td>1.26</td>\n",
       "    </tr>\n",
       "    <tr>\n",
       "      <th>INTC</th>\n",
       "      <td>0.18</td>\n",
       "      <td>0.25</td>\n",
       "      <td>0.66</td>\n",
       "      <td>0.06</td>\n",
       "      <td>0.02</td>\n",
       "      <td>0.04</td>\n",
       "      <td>1.20</td>\n",
       "    </tr>\n",
       "    <tr>\n",
       "      <th>MCD</th>\n",
       "      <td>0.17</td>\n",
       "      <td>0.16</td>\n",
       "      <td>0.90</td>\n",
       "      <td>0.03</td>\n",
       "      <td>0.01</td>\n",
       "      <td>0.02</td>\n",
       "      <td>0.62</td>\n",
       "    </tr>\n",
       "    <tr>\n",
       "      <th>PG</th>\n",
       "      <td>0.07</td>\n",
       "      <td>0.15</td>\n",
       "      <td>0.35</td>\n",
       "      <td>0.02</td>\n",
       "      <td>0.01</td>\n",
       "      <td>0.01</td>\n",
       "      <td>0.55</td>\n",
       "    </tr>\n",
       "    <tr>\n",
       "      <th>WMT</th>\n",
       "      <td>0.08</td>\n",
       "      <td>0.19</td>\n",
       "      <td>0.30</td>\n",
       "      <td>0.04</td>\n",
       "      <td>0.01</td>\n",
       "      <td>0.03</td>\n",
       "      <td>0.63</td>\n",
       "    </tr>\n",
       "    <tr>\n",
       "      <th>MP</th>\n",
       "      <td>0.09</td>\n",
       "      <td>0.13</td>\n",
       "      <td>0.56</td>\n",
       "      <td>0.02</td>\n",
       "      <td>0.02</td>\n",
       "      <td>0.00</td>\n",
       "      <td>1.00</td>\n",
       "    </tr>\n",
       "  </tbody>\n",
       "</table>\n",
       "</div>"
      ],
      "text/plain": [
       "      Return  Risk  Sharpe  TotalRisk_var  SystRisk_var  UnsystRisk_var  beta\n",
       "AXP     0.05  0.21    0.15           0.04          0.02            0.03  0.99\n",
       "FB      0.22  0.30    0.69           0.09          0.02            0.07  1.26\n",
       "INTC    0.18  0.25    0.66           0.06          0.02            0.04  1.20\n",
       "MCD     0.17  0.16    0.90           0.03          0.01            0.02  0.62\n",
       "PG      0.07  0.15    0.35           0.02          0.01            0.01  0.55\n",
       "WMT     0.08  0.19    0.30           0.04          0.01            0.03  0.63\n",
       "MP      0.09  0.13    0.56           0.02          0.02            0.00  1.00"
      ]
     },
     "execution_count": 39,
     "metadata": {},
     "output_type": "execute_result"
    }
   ],
   "source": [
    "# run the cell!\n",
    "summary"
   ]
  },
  {
   "cell_type": "markdown",
   "metadata": {},
   "source": [
    "Facebook has the highest Beta-Factor and has therefore the highest exposure to market-specific Risk."
   ]
  },
  {
   "cell_type": "markdown",
   "metadata": {},
   "source": [
    "176. Create the __Security Market Line__! __Fill in the gaps__! <br>\n",
    "__Determine__ the stocks that __overperformed__ and __underperformed__ the __Market__ in the Systematic Risk/Return Framework (CAPM)."
   ]
  },
  {
   "cell_type": "code",
   "execution_count": 40,
   "metadata": {},
   "outputs": [
    {
     "data": {
      "image/png": "[encoded data removed]",
      "text/plain": [
       "<Figure size 1500x800 with 1 Axes>"
      ]
     },
     "metadata": {},
     "output_type": "display_data"
    }
   ],
   "source": [
    "plt.figure(figsize = (15, 8))\n",
    "plt.scatter(summary.beta, summary.Return)\n",
    "for i in summary.index:\n",
    "    plt.annotate(i, xy=(summary.loc[i, \"beta\"]+0.00, summary.loc[i, \"Return\"]-0.015), size = 15)\n",
    "plt.plot([rf[1], summary.loc[\"MP\", \"beta\"]], [rf[0], summary.loc[\"MP\", \"Return\"]])\n",
    "plt.scatter(rf[1], rf[0], s = 100, marker = \"o\", c = \"green\")\n",
    "plt.annotate(\"Risk Free Asset\", xy = (rf[1] + 0.002, rf[0] - 0.02), size = 20, color = \"green\")\n",
    "plt.xlabel(\"beta\", fontsize = 15)\n",
    "plt.ylabel(\"ann. Return\", fontsize = 15)\n",
    "plt.title(\"beta / Return\", fontsize = 20)\n",
    "plt.show()"
   ]
  },
  {
   "cell_type": "markdown",
   "metadata": {},
   "source": [
    "There is only one stock that underperformed the Market ... American Express (having tough times with Fintechs?)"
   ]
  },
  {
   "cell_type": "markdown",
   "metadata": {},
   "source": [
    "177. __Add__ the new __column \"capm_ret\"__ with the __required Return__ according to the __CAPM__ Model! __Fill in the gaps__!"
   ]
  },
  {
   "cell_type": "code",
   "execution_count": 41,
   "metadata": {},
   "outputs": [],
   "source": [
    "summary[\"capm_ret\"] = rf[0] + (summary.loc[\"MP\", \"Return\"] - rf[0]) * summary.beta"
   ]
  },
  {
   "cell_type": "markdown",
   "metadata": {},
   "source": [
    "178. Finally, __add__ the new __column \"alpha\"__ showing the over-/underperformance (Excess Return)! <br>\n",
    "Which __Company__ shows the __highest__ / __lowest__ alpha?"
   ]
  },
  {
   "cell_type": "code",
   "execution_count": 42,
   "metadata": {},
   "outputs": [],
   "source": [
    "summary[\"alpha\"] = summary.Return - summary.capm_ret"
   ]
  },
  {
   "cell_type": "code",
   "execution_count": 43,
   "metadata": {},
   "outputs": [
    {
     "data": {
      "text/html": [
       "<div>\n",
       "<style scoped>\n",
       "    .dataframe tbody tr th:only-of-type {\n",
       "        vertical-align: middle;\n",
       "    }\n",
       "\n",
       "    .dataframe tbody tr th {\n",
       "        vertical-align: top;\n",
       "    }\n",
       "\n",
       "    .dataframe thead th {\n",
       "        text-align: right;\n",
       "    }\n",
       "</style>\n",
       "<table border=\"1\" class=\"dataframe\">\n",
       "  <thead>\n",
       "    <tr style=\"text-align: right;\">\n",
       "      <th></th>\n",
       "      <th>Return</th>\n",
       "      <th>Risk</th>\n",
       "      <th>Sharpe</th>\n",
       "      <th>TotalRisk_var</th>\n",
       "      <th>SystRisk_var</th>\n",
       "      <th>UnsystRisk_var</th>\n",
       "      <th>beta</th>\n",
       "      <th>capm_ret</th>\n",
       "      <th>alpha</th>\n",
       "    </tr>\n",
       "  </thead>\n",
       "  <tbody>\n",
       "    <tr>\n",
       "      <th>AXP</th>\n",
       "      <td>0.05</td>\n",
       "      <td>0.21</td>\n",
       "      <td>0.15</td>\n",
       "      <td>0.04</td>\n",
       "      <td>0.02</td>\n",
       "      <td>0.03</td>\n",
       "      <td>0.99</td>\n",
       "      <td>0.09</td>\n",
       "      <td>-0.04</td>\n",
       "    </tr>\n",
       "    <tr>\n",
       "      <th>FB</th>\n",
       "      <td>0.22</td>\n",
       "      <td>0.30</td>\n",
       "      <td>0.69</td>\n",
       "      <td>0.09</td>\n",
       "      <td>0.02</td>\n",
       "      <td>0.07</td>\n",
       "      <td>1.26</td>\n",
       "      <td>0.11</td>\n",
       "      <td>0.11</td>\n",
       "    </tr>\n",
       "    <tr>\n",
       "      <th>INTC</th>\n",
       "      <td>0.18</td>\n",
       "      <td>0.25</td>\n",
       "      <td>0.66</td>\n",
       "      <td>0.06</td>\n",
       "      <td>0.02</td>\n",
       "      <td>0.04</td>\n",
       "      <td>1.20</td>\n",
       "      <td>0.11</td>\n",
       "      <td>0.07</td>\n",
       "    </tr>\n",
       "    <tr>\n",
       "      <th>MCD</th>\n",
       "      <td>0.17</td>\n",
       "      <td>0.16</td>\n",
       "      <td>0.90</td>\n",
       "      <td>0.03</td>\n",
       "      <td>0.01</td>\n",
       "      <td>0.02</td>\n",
       "      <td>0.62</td>\n",
       "      <td>0.06</td>\n",
       "      <td>0.10</td>\n",
       "    </tr>\n",
       "    <tr>\n",
       "      <th>PG</th>\n",
       "      <td>0.07</td>\n",
       "      <td>0.15</td>\n",
       "      <td>0.35</td>\n",
       "      <td>0.02</td>\n",
       "      <td>0.01</td>\n",
       "      <td>0.01</td>\n",
       "      <td>0.55</td>\n",
       "      <td>0.06</td>\n",
       "      <td>0.01</td>\n",
       "    </tr>\n",
       "    <tr>\n",
       "      <th>WMT</th>\n",
       "      <td>0.08</td>\n",
       "      <td>0.19</td>\n",
       "      <td>0.30</td>\n",
       "      <td>0.04</td>\n",
       "      <td>0.01</td>\n",
       "      <td>0.03</td>\n",
       "      <td>0.63</td>\n",
       "      <td>0.06</td>\n",
       "      <td>0.01</td>\n",
       "    </tr>\n",
       "    <tr>\n",
       "      <th>MP</th>\n",
       "      <td>0.09</td>\n",
       "      <td>0.13</td>\n",
       "      <td>0.56</td>\n",
       "      <td>0.02</td>\n",
       "      <td>0.02</td>\n",
       "      <td>0.00</td>\n",
       "      <td>1.00</td>\n",
       "      <td>0.09</td>\n",
       "      <td>0.00</td>\n",
       "    </tr>\n",
       "  </tbody>\n",
       "</table>\n",
       "</div>"
      ],
      "text/plain": [
       "      Return  Risk  Sharpe  TotalRisk_var  SystRisk_var  UnsystRisk_var  beta  \\\n",
       "AXP     0.05  0.21    0.15           0.04          0.02            0.03  0.99   \n",
       "FB      0.22  0.30    0.69           0.09          0.02            0.07  1.26   \n",
       "INTC    0.18  0.25    0.66           0.06          0.02            0.04  1.20   \n",
       "MCD     0.17  0.16    0.90           0.03          0.01            0.02  0.62   \n",
       "PG      0.07  0.15    0.35           0.02          0.01            0.01  0.55   \n",
       "WMT     0.08  0.19    0.30           0.04          0.01            0.03  0.63   \n",
       "MP      0.09  0.13    0.56           0.02          0.02            0.00  1.00   \n",
       "\n",
       "      capm_ret  alpha  \n",
       "AXP       0.09  -0.04  \n",
       "FB        0.11   0.11  \n",
       "INTC      0.11   0.07  \n",
       "MCD       0.06   0.10  \n",
       "PG        0.06   0.01  \n",
       "WMT       0.06   0.01  \n",
       "MP        0.09   0.00  "
      ]
     },
     "execution_count": 43,
     "metadata": {},
     "output_type": "execute_result"
    }
   ],
   "source": [
    "# run the cell!\n",
    "summary"
   ]
  },
  {
   "cell_type": "markdown",
   "metadata": {},
   "source": [
    "Highest alpha: Facebook; lowest alpha: American Express"
   ]
  },
  {
   "cell_type": "markdown",
   "metadata": {},
   "source": [
    "# Well Done!"
   ]
  },
  {
   "cell_type": "markdown",
   "metadata": {},
   "source": [
    "-------------------"
   ]
  },
  {
   "cell_type": "markdown",
   "metadata": {},
   "source": [
    "# Hints (Spoiler!)"
   ]
  },
  {
   "cell_type": "markdown",
   "metadata": {},
   "source": [
    "164. Select the Adj Close Prices"
   ]
  },
  {
   "cell_type": "markdown",
   "metadata": {},
   "source": [
    "165. df = df.loc[--- : ---]"
   ]
  },
  {
   "cell_type": "markdown",
   "metadata": {},
   "source": [
    "166. new column with label \"MP\""
   ]
  },
  {
   "cell_type": "markdown",
   "metadata": {},
   "source": [
    "167. pct_change() and dropna() method"
   ]
  },
  {
   "cell_type": "markdown",
   "metadata": {},
   "source": [
    "168. summary = ann_risk_return(--)"
   ]
  },
  {
   "cell_type": "markdown",
   "metadata": {},
   "source": [
    "169. Sharpe Ratio = (Asset Return - Risk Free Return) / Asset Risk"
   ]
  },
  {
   "cell_type": "markdown",
   "metadata": {},
   "source": [
    "170. numpy method power(), to the power of 2"
   ]
  },
  {
   "cell_type": "markdown",
   "metadata": {},
   "source": [
    "171. cov() method"
   ]
  },
  {
   "cell_type": "markdown",
   "metadata": {},
   "source": [
    "172. the very last column in COV shows the covariance of the stocks with the MP (=Systematic Risk)"
   ]
  },
  {
   "cell_type": "markdown",
   "metadata": {},
   "source": [
    "173. Unsystematic Risk = Total Risk - Systematic Risk"
   ]
  },
  {
   "cell_type": "markdown",
   "metadata": {},
   "source": [
    "174. plot() method, \"bar\" plot"
   ]
  },
  {
   "cell_type": "markdown",
   "metadata": {},
   "source": [
    "175. beta = systematic risk / variance of the Market Portfolio"
   ]
  },
  {
   "cell_type": "markdown",
   "metadata": {},
   "source": [
    "176. beta on the x-axis, Return on the y-axis"
   ]
  },
  {
   "cell_type": "markdown",
   "metadata": {},
   "source": [
    "177. capm_return = risk-free Return + (Market Portfolio Return - risk-free Return) * beta "
   ]
  },
  {
   "cell_type": "markdown",
   "metadata": {},
   "source": [
    "178. alpha = actual/realized Return - capm_return"
   ]
  },
  {
   "cell_type": "code",
   "execution_count": null,
   "metadata": {},
   "outputs": [],
   "source": []
  }
 ],
 "metadata": {
  "kernelspec": {
   "display_name": "Python 3",
   "language": "python",
   "name": "python3"
  },
  "language_info": {
   "codemirror_mode": {
    "name": "ipython",
    "version": 3
   },
   "file_extension": ".py",
   "mimetype": "text/x-python",
   "name": "python",
   "nbconvert_exporter": "python",
   "pygments_lexer": "ipython3",
   "version": "3.10.12"
  }
 },
 "nbformat": 4,
 "nbformat_minor": 2
}
